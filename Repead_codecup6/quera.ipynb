{
 "cells": [
  {
   "cell_type": "markdown",
   "id": "6e986da0",
   "metadata": {},
   "source": [
    "Ali fell in love with Kodak and doesn't want to accept that every game has an ending! For this reason, it wants to leave the endless string ss in CodeCup 6 as a memory.\n",
    "\n",
    "The string ss is an infinite string (from the right) obtained by adding codecup6 infinitely to the right of an empty string:\n",
    "\n",
    "The first character of this string is s_1s\n",
    "1\n",
    "​\n",
    "  Equal to c, the second character of this string is s_2s\n",
    "2\n",
    "​\n",
    "  Equal to o, the third character of this string is s_3s\n",
    "3\n",
    "​\n",
    "  is equal to d and...\n",
    "\n",
    "Amin, who does not have a good relationship with infinities, gives the positive integer nn to Ali and the value s_ns\n",
    "n\n",
    "​\n",
    "  He asks him. Help Ali to answer Amin's question."
   ]
  },
  {
   "cell_type": "code",
   "execution_count": 1,
   "id": "e77cc822",
   "metadata": {},
   "outputs": [],
   "source": [
    "ml=[\"6\",\"c\",\"o\",\"d\",\"e\",\"c\",\"u\",\"p\"]"
   ]
  },
  {
   "cell_type": "markdown",
   "id": "b2d4ff1e",
   "metadata": {},
   "source": [
    "## Entrance\n",
    "The input contains only one line and contains the positive integer n.\n",
    "\n",
    " 1001≤n≤100"
   ]
  },
  {
   "cell_type": "code",
   "execution_count": null,
   "id": "3db6272d",
   "metadata": {},
   "outputs": [],
   "source": [
    "num=int(input())"
   ]
  },
  {
   "cell_type": "markdown",
   "id": "b906c2b1",
   "metadata": {
    "scrolled": true
   },
   "source": [
    "## output\n",
    "In the only output line the value of s_ns\n",
    "n\n",
    "​\n",
    "   Print which is only one character.\n",
    "\n",
    "Note that the judging system is case sensitive."
   ]
  },
  {
   "cell_type": "code",
   "execution_count": null,
   "id": "2b2bb5c5",
   "metadata": {},
   "outputs": [],
   "source": [
    "index=num%8\n",
    "print(ml[index])"
   ]
  },
  {
   "cell_type": "code",
   "execution_count": null,
   "id": "c081f95d",
   "metadata": {},
   "outputs": [],
   "source": []
  },
  {
   "cell_type": "code",
   "execution_count": null,
   "id": "eefae7cf",
   "metadata": {},
   "outputs": [],
   "source": []
  }
 ],
 "metadata": {
  "kernelspec": {
   "display_name": "Python 3 (ipykernel)",
   "language": "python",
   "name": "python3"
  },
  "language_info": {
   "codemirror_mode": {
    "name": "ipython",
    "version": 3
   },
   "file_extension": ".py",
   "mimetype": "text/x-python",
   "name": "python",
   "nbconvert_exporter": "python",
   "pygments_lexer": "ipython3",
   "version": "3.10.4"
  }
 },
 "nbformat": 4,
 "nbformat_minor": 5
}
